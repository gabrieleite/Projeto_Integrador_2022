{
  "nbformat": 4,
  "nbformat_minor": 0,
  "metadata": {
    "colab": {
      "name": "Cópia de Projeto_Integrador_2022.ipynb",
      "provenance": [],
      "collapsed_sections": [],
      "include_colab_link": true
    },
    "kernelspec": {
      "name": "python3",
      "display_name": "Python 3"
    },
    "language_info": {
      "name": "python"
    }
  },
  "cells": [
    {
      "cell_type": "markdown",
      "metadata": {
        "id": "view-in-github",
        "colab_type": "text"
      },
      "source": [
        "<a href=\"https://colab.research.google.com/github/gabrieleite/Projeto_Integrador_2022/blob/main/C%C3%B3pia_de_Projeto_Integrador_2022.ipynb\" target=\"_parent\"><img src=\"https://colab.research.google.com/assets/colab-badge.svg\" alt=\"Open In Colab\"/></a>"
      ]
    },
    {
      "cell_type": "markdown",
      "source": [
        "#Bibliotecas "
      ],
      "metadata": {
        "id": "BR4qIKzOV6x-"
      }
    },
    {
      "cell_type": "code",
      "source": [
        "import pandas as pd\n",
        "import matplotlib.pyplot as plt\n",
        "import seaborn as sns\n",
        "import numpy as np\n",
        "%matplotlib inline"
      ],
      "metadata": {
        "id": "zJZOc8TGV8T0"
      },
      "execution_count": 1,
      "outputs": []
    },
    {
      "cell_type": "markdown",
      "source": [
        "**Pandas** \n",
        "\n",
        "A biblioteca Pandas é uma biblioteca Python para análise de dados. O Pandas vem com um conjunto de opções e configurações alteráveis ​​pelo usuário. A biblioteca oferece várias maneiras de remodelar e reestruturar os DataFrames. Esses métodos variam de simples e fáceis até poderosos e complexos. (**VOITTO**, 2022)\n",
        "\n",
        "O pandas permite trabalhar com diferentes tipos de dados, por exemplo: dados tabulares, como uma planilha Excel ou uma tabela SQL; dados ordenados de modo temporal ou não; matrizes; qualquer outro conjunto de dados, que não necessariamente precisem estar rotulados; (**Harve**, 2022)\n",
        "\n",
        "**Matplotlib**\n",
        "\n",
        "Matplotlib é uma biblioteca abrangente para criar visualizações estáticas, animadas e interativas em Python. O Matplotlib torna as coisas mais fáceis e as difíceis possíveis. (**Matplotlib**, 2022)\n",
        "\n",
        "**Seaborn**\n",
        "\n",
        "Seaborn é uma biblioteca que usa o Matplotlib para plotar gráficos. Ele será usado para visualizar distribuições aleatórias. (**W3schools**, 2022)\n",
        "\n",
        "**Numpy**\n",
        "\n",
        "O pacote NumPy é uma biblioteca de código aberto destinada a realizar operações em arrays multidimensionais, amigavelmente denominada como ndarray nesta biblioteca. A biblioteca oferece operações rápidas para tratamento e limpeza de dados, geração de subconjuntos e filtragens, estatísticas descritivas, manipulação de dados relacionais, manipulações de dados em grupos, entre outros tipos de processamento.(**Harve**, 2022)"
      ],
      "metadata": {
        "id": "xWuC9TRCWuvs"
      }
    },
    {
      "cell_type": "markdown",
      "source": [
        "# Adicionando os dados nos gráficos de barras horizontais"
      ],
      "metadata": {
        "id": "Qfw0aw-zwFQO"
      }
    },
    {
      "cell_type": "code",
      "source": [
        "def emcima(rects, ax):\n",
        "  for rect in rects:\n",
        "    height = rect.get_height()\n",
        "    ax.annotate('{}'.format(height),\n",
        "                xy=(rect.get_x() + rect.get_width() / 2, height), \n",
        "                xytext = (0, 3),\n",
        "                textcoords=\"offset points\",\n",
        "                ha = 'center', va='bottom')"
      ],
      "metadata": {
        "id": "6eueuOc5HUk8"
      },
      "execution_count": 2,
      "outputs": []
    },
    {
      "cell_type": "markdown",
      "source": [
        "#Importando os Dados "
      ],
      "metadata": {
        "id": "kpQBOfM6arcQ"
      }
    },
    {
      "cell_type": "code",
      "source": [
        "#Importação dos dados\n",
        "dados = pd.read_csv('/content/ocorrencias_cenipa.csv')"
      ],
      "metadata": {
        "id": "JPjsszylaukn"
      },
      "execution_count": 3,
      "outputs": []
    },
    {
      "cell_type": "markdown",
      "source": [
        "# Visualizando o conjunto de dados"
      ],
      "metadata": {
        "id": "K4SrBLJawcTE"
      }
    },
    {
      "cell_type": "code",
      "source": [
        "dados.head()"
      ],
      "metadata": {
        "id": "LOaulrhDcAkU",
        "outputId": "78b6dac3-dd96-4bbc-c12a-344c186e9dcb",
        "colab": {
          "base_uri": "https://localhost:8080/",
          "height": 473
        }
      },
      "execution_count": 4,
      "outputs": [
        {
          "output_type": "execute_result",
          "data": {
            "text/plain": [
              "   codigo             tipo                                          descricao  \\\n",
              "0   40107         ACIDENTE  COLISÃO COM OBSTÁCULO DURANTE A DECOLAGEM E POUSO   \n",
              "1   40147         ACIDENTE  FALHA OU MAU FUNCIONAMENTO DE SISTEMA / COMPON...   \n",
              "2   40148         ACIDENTE                                          PANE SECA   \n",
              "3   40149         ACIDENTE                              FALHA DO MOTOR EM VOO   \n",
              "4   40150  INCIDENTE GRAVE                                  COM TREM DE POUSO   \n",
              "\n",
              "             cidade estado        data   ano      hora aeronave_liberada  \\\n",
              "0            GURUPÁ     PA  2010-01-12  2010  14:30:00               SIM   \n",
              "1  UNIÃO DA VITÓRIA     PR  2010-04-08  2010  14:20:00               SIM   \n",
              "2      CAMPO GRANDE     MS  2010-03-19  2010  19:30:00               SIM   \n",
              "3          LUZIÂNIA     GO  2010-03-21  2010  20:45:00               SIM   \n",
              "4       SANTA MARIA     RS  2010-03-10  2010  17:20:00               SIM   \n",
              "\n",
              "  status_investigacao  ...  ocorrencia_saida_pista aeronave_tipo  \\\n",
              "0          FINALIZADA  ...                     NÃO         AVIÃO   \n",
              "1          FINALIZADA  ...                     SIM         AVIÃO   \n",
              "2          FINALIZADA  ...                     NÃO         AVIÃO   \n",
              "3          FINALIZADA  ...                     NÃO         AVIÃO   \n",
              "4          FINALIZADA  ...                     NÃO         AVIÃO   \n",
              "\n",
              "           aeronave_fabricante motor_tipo aeronave_motor_quantidade  \\\n",
              "0  NEIVA INDUSTRIA AERONAUTICA     PISTÃO                 MONOMOTOR   \n",
              "1               PIPER AIRCRAFT     PISTÃO                   BIMOTOR   \n",
              "2              CESSNA AIRCRAFT     PISTÃO                 MONOMOTOR   \n",
              "3                      XAVANTE     PISTÃO                 MONOMOTOR   \n",
              "4               BEECH AIRCRAFT     PISTÃO                 MONOMOTOR   \n",
              "\n",
              "  aeronave_assentos  aeronave_ano_fabricacao  aeronave_pais_fabricante  \\\n",
              "0                 7                     1977                    BRASIL   \n",
              "1                 6                     1997                    BRASIL   \n",
              "2                 6                     1962                    BRASIL   \n",
              "3                 2                     1974                    BRASIL   \n",
              "4                 6                     1974                    BRASIL   \n",
              "\n",
              "  aeronave_fase_operacao aeronave_nivel_dano  \n",
              "0                  POUSO                LEVE  \n",
              "1                  POUSO         SUBSTANCIAL  \n",
              "2      APROXIMAÇÃO FINAL         SUBSTANCIAL  \n",
              "3              DECOLAGEM           DESTRUÍDA  \n",
              "4                  POUSO                LEVE  \n",
              "\n",
              "[5 rows x 21 columns]"
            ],
            "text/html": [
              "\n",
              "  <div id=\"df-a60748b6-e615-4a7a-a49b-b29da54c672a\">\n",
              "    <div class=\"colab-df-container\">\n",
              "      <div>\n",
              "<style scoped>\n",
              "    .dataframe tbody tr th:only-of-type {\n",
              "        vertical-align: middle;\n",
              "    }\n",
              "\n",
              "    .dataframe tbody tr th {\n",
              "        vertical-align: top;\n",
              "    }\n",
              "\n",
              "    .dataframe thead th {\n",
              "        text-align: right;\n",
              "    }\n",
              "</style>\n",
              "<table border=\"1\" class=\"dataframe\">\n",
              "  <thead>\n",
              "    <tr style=\"text-align: right;\">\n",
              "      <th></th>\n",
              "      <th>codigo</th>\n",
              "      <th>tipo</th>\n",
              "      <th>descricao</th>\n",
              "      <th>cidade</th>\n",
              "      <th>estado</th>\n",
              "      <th>data</th>\n",
              "      <th>ano</th>\n",
              "      <th>hora</th>\n",
              "      <th>aeronave_liberada</th>\n",
              "      <th>status_investigacao</th>\n",
              "      <th>...</th>\n",
              "      <th>ocorrencia_saida_pista</th>\n",
              "      <th>aeronave_tipo</th>\n",
              "      <th>aeronave_fabricante</th>\n",
              "      <th>motor_tipo</th>\n",
              "      <th>aeronave_motor_quantidade</th>\n",
              "      <th>aeronave_assentos</th>\n",
              "      <th>aeronave_ano_fabricacao</th>\n",
              "      <th>aeronave_pais_fabricante</th>\n",
              "      <th>aeronave_fase_operacao</th>\n",
              "      <th>aeronave_nivel_dano</th>\n",
              "    </tr>\n",
              "  </thead>\n",
              "  <tbody>\n",
              "    <tr>\n",
              "      <th>0</th>\n",
              "      <td>40107</td>\n",
              "      <td>ACIDENTE</td>\n",
              "      <td>COLISÃO COM OBSTÁCULO DURANTE A DECOLAGEM E POUSO</td>\n",
              "      <td>GURUPÁ</td>\n",
              "      <td>PA</td>\n",
              "      <td>2010-01-12</td>\n",
              "      <td>2010</td>\n",
              "      <td>14:30:00</td>\n",
              "      <td>SIM</td>\n",
              "      <td>FINALIZADA</td>\n",
              "      <td>...</td>\n",
              "      <td>NÃO</td>\n",
              "      <td>AVIÃO</td>\n",
              "      <td>NEIVA INDUSTRIA AERONAUTICA</td>\n",
              "      <td>PISTÃO</td>\n",
              "      <td>MONOMOTOR</td>\n",
              "      <td>7</td>\n",
              "      <td>1977</td>\n",
              "      <td>BRASIL</td>\n",
              "      <td>POUSO</td>\n",
              "      <td>LEVE</td>\n",
              "    </tr>\n",
              "    <tr>\n",
              "      <th>1</th>\n",
              "      <td>40147</td>\n",
              "      <td>ACIDENTE</td>\n",
              "      <td>FALHA OU MAU FUNCIONAMENTO DE SISTEMA / COMPON...</td>\n",
              "      <td>UNIÃO DA VITÓRIA</td>\n",
              "      <td>PR</td>\n",
              "      <td>2010-04-08</td>\n",
              "      <td>2010</td>\n",
              "      <td>14:20:00</td>\n",
              "      <td>SIM</td>\n",
              "      <td>FINALIZADA</td>\n",
              "      <td>...</td>\n",
              "      <td>SIM</td>\n",
              "      <td>AVIÃO</td>\n",
              "      <td>PIPER AIRCRAFT</td>\n",
              "      <td>PISTÃO</td>\n",
              "      <td>BIMOTOR</td>\n",
              "      <td>6</td>\n",
              "      <td>1997</td>\n",
              "      <td>BRASIL</td>\n",
              "      <td>POUSO</td>\n",
              "      <td>SUBSTANCIAL</td>\n",
              "    </tr>\n",
              "    <tr>\n",
              "      <th>2</th>\n",
              "      <td>40148</td>\n",
              "      <td>ACIDENTE</td>\n",
              "      <td>PANE SECA</td>\n",
              "      <td>CAMPO GRANDE</td>\n",
              "      <td>MS</td>\n",
              "      <td>2010-03-19</td>\n",
              "      <td>2010</td>\n",
              "      <td>19:30:00</td>\n",
              "      <td>SIM</td>\n",
              "      <td>FINALIZADA</td>\n",
              "      <td>...</td>\n",
              "      <td>NÃO</td>\n",
              "      <td>AVIÃO</td>\n",
              "      <td>CESSNA AIRCRAFT</td>\n",
              "      <td>PISTÃO</td>\n",
              "      <td>MONOMOTOR</td>\n",
              "      <td>6</td>\n",
              "      <td>1962</td>\n",
              "      <td>BRASIL</td>\n",
              "      <td>APROXIMAÇÃO FINAL</td>\n",
              "      <td>SUBSTANCIAL</td>\n",
              "    </tr>\n",
              "    <tr>\n",
              "      <th>3</th>\n",
              "      <td>40149</td>\n",
              "      <td>ACIDENTE</td>\n",
              "      <td>FALHA DO MOTOR EM VOO</td>\n",
              "      <td>LUZIÂNIA</td>\n",
              "      <td>GO</td>\n",
              "      <td>2010-03-21</td>\n",
              "      <td>2010</td>\n",
              "      <td>20:45:00</td>\n",
              "      <td>SIM</td>\n",
              "      <td>FINALIZADA</td>\n",
              "      <td>...</td>\n",
              "      <td>NÃO</td>\n",
              "      <td>AVIÃO</td>\n",
              "      <td>XAVANTE</td>\n",
              "      <td>PISTÃO</td>\n",
              "      <td>MONOMOTOR</td>\n",
              "      <td>2</td>\n",
              "      <td>1974</td>\n",
              "      <td>BRASIL</td>\n",
              "      <td>DECOLAGEM</td>\n",
              "      <td>DESTRUÍDA</td>\n",
              "    </tr>\n",
              "    <tr>\n",
              "      <th>4</th>\n",
              "      <td>40150</td>\n",
              "      <td>INCIDENTE GRAVE</td>\n",
              "      <td>COM TREM DE POUSO</td>\n",
              "      <td>SANTA MARIA</td>\n",
              "      <td>RS</td>\n",
              "      <td>2010-03-10</td>\n",
              "      <td>2010</td>\n",
              "      <td>17:20:00</td>\n",
              "      <td>SIM</td>\n",
              "      <td>FINALIZADA</td>\n",
              "      <td>...</td>\n",
              "      <td>NÃO</td>\n",
              "      <td>AVIÃO</td>\n",
              "      <td>BEECH AIRCRAFT</td>\n",
              "      <td>PISTÃO</td>\n",
              "      <td>MONOMOTOR</td>\n",
              "      <td>6</td>\n",
              "      <td>1974</td>\n",
              "      <td>BRASIL</td>\n",
              "      <td>POUSO</td>\n",
              "      <td>LEVE</td>\n",
              "    </tr>\n",
              "  </tbody>\n",
              "</table>\n",
              "<p>5 rows × 21 columns</p>\n",
              "</div>\n",
              "      <button class=\"colab-df-convert\" onclick=\"convertToInteractive('df-a60748b6-e615-4a7a-a49b-b29da54c672a')\"\n",
              "              title=\"Convert this dataframe to an interactive table.\"\n",
              "              style=\"display:none;\">\n",
              "        \n",
              "  <svg xmlns=\"http://www.w3.org/2000/svg\" height=\"24px\"viewBox=\"0 0 24 24\"\n",
              "       width=\"24px\">\n",
              "    <path d=\"M0 0h24v24H0V0z\" fill=\"none\"/>\n",
              "    <path d=\"M18.56 5.44l.94 2.06.94-2.06 2.06-.94-2.06-.94-.94-2.06-.94 2.06-2.06.94zm-11 1L8.5 8.5l.94-2.06 2.06-.94-2.06-.94L8.5 2.5l-.94 2.06-2.06.94zm10 10l.94 2.06.94-2.06 2.06-.94-2.06-.94-.94-2.06-.94 2.06-2.06.94z\"/><path d=\"M17.41 7.96l-1.37-1.37c-.4-.4-.92-.59-1.43-.59-.52 0-1.04.2-1.43.59L10.3 9.45l-7.72 7.72c-.78.78-.78 2.05 0 2.83L4 21.41c.39.39.9.59 1.41.59.51 0 1.02-.2 1.41-.59l7.78-7.78 2.81-2.81c.8-.78.8-2.07 0-2.86zM5.41 20L4 18.59l7.72-7.72 1.47 1.35L5.41 20z\"/>\n",
              "  </svg>\n",
              "      </button>\n",
              "      \n",
              "  <style>\n",
              "    .colab-df-container {\n",
              "      display:flex;\n",
              "      flex-wrap:wrap;\n",
              "      gap: 12px;\n",
              "    }\n",
              "\n",
              "    .colab-df-convert {\n",
              "      background-color: #E8F0FE;\n",
              "      border: none;\n",
              "      border-radius: 50%;\n",
              "      cursor: pointer;\n",
              "      display: none;\n",
              "      fill: #1967D2;\n",
              "      height: 32px;\n",
              "      padding: 0 0 0 0;\n",
              "      width: 32px;\n",
              "    }\n",
              "\n",
              "    .colab-df-convert:hover {\n",
              "      background-color: #E2EBFA;\n",
              "      box-shadow: 0px 1px 2px rgba(60, 64, 67, 0.3), 0px 1px 3px 1px rgba(60, 64, 67, 0.15);\n",
              "      fill: #174EA6;\n",
              "    }\n",
              "\n",
              "    [theme=dark] .colab-df-convert {\n",
              "      background-color: #3B4455;\n",
              "      fill: #D2E3FC;\n",
              "    }\n",
              "\n",
              "    [theme=dark] .colab-df-convert:hover {\n",
              "      background-color: #434B5C;\n",
              "      box-shadow: 0px 1px 3px 1px rgba(0, 0, 0, 0.15);\n",
              "      filter: drop-shadow(0px 1px 2px rgba(0, 0, 0, 0.3));\n",
              "      fill: #FFFFFF;\n",
              "    }\n",
              "  </style>\n",
              "\n",
              "      <script>\n",
              "        const buttonEl =\n",
              "          document.querySelector('#df-a60748b6-e615-4a7a-a49b-b29da54c672a button.colab-df-convert');\n",
              "        buttonEl.style.display =\n",
              "          google.colab.kernel.accessAllowed ? 'block' : 'none';\n",
              "\n",
              "        async function convertToInteractive(key) {\n",
              "          const element = document.querySelector('#df-a60748b6-e615-4a7a-a49b-b29da54c672a');\n",
              "          const dataTable =\n",
              "            await google.colab.kernel.invokeFunction('convertToInteractive',\n",
              "                                                     [key], {});\n",
              "          if (!dataTable) return;\n",
              "\n",
              "          const docLinkHtml = 'Like what you see? Visit the ' +\n",
              "            '<a target=\"_blank\" href=https://colab.research.google.com/notebooks/data_table.ipynb>data table notebook</a>'\n",
              "            + ' to learn more about interactive tables.';\n",
              "          element.innerHTML = '';\n",
              "          dataTable['output_type'] = 'display_data';\n",
              "          await google.colab.output.renderOutput(dataTable, element);\n",
              "          const docLink = document.createElement('div');\n",
              "          docLink.innerHTML = docLinkHtml;\n",
              "          element.appendChild(docLink);\n",
              "        }\n",
              "      </script>\n",
              "    </div>\n",
              "  </div>\n",
              "  "
            ]
          },
          "metadata": {},
          "execution_count": 4
        }
      ]
    },
    {
      "cell_type": "markdown",
      "source": [
        "#Dados por Região"
      ],
      "metadata": {
        "id": "0SYcmCgpEABf"
      }
    },
    {
      "cell_type": "code",
      "source": [
        "regioes = {'Nordeste': ['AL', 'BA', 'CE', 'MA', 'PB', 'PE', 'PI', 'RN', 'SE'],\n",
        "           'Norte': ['AM', 'RR', 'AP', 'PA', 'TO', 'RO', 'AC'],\n",
        "           'Centro Oeste': ['MT', 'MS', 'GO'],\n",
        "           'Sudeste': ['SP', 'RJ', 'ES', 'MG'], \n",
        "           'Sul': ['PR', 'RS', 'SC']}\n",
        "\n",
        "tipos = ['ACIDENTE', 'INCIDENTE', 'INCIDENTE GRAVE']\n",
        "\n",
        "um = {i: [len([k for k in list(dados.loc[dados['tipo'] == i, ['estado']]['estado'])\n",
        "              if k in regioes[j]]) for j in regioes.keys()] for i in tipos}\n",
        "\n",
        "um['Região'] = list(regioes.keys())\n",
        "dados_por_regiao = pd.DataFrame(um)"
      ],
      "metadata": {
        "id": "ytH4jkkJED3e"
      },
      "execution_count": null,
      "outputs": []
    },
    {
      "cell_type": "code",
      "source": [
        "#Visualizando os dados no gráfico\n",
        "plt.style.use(\"ggplot\")\n",
        "fig, ax = plt.subplots(figsize = (14, 6))\n",
        "\n",
        "width = 0.25\n",
        "r1 = np.arange(5)\n",
        "r2 = [ x + width for x in r1 ]\n",
        "r3 = [ x + width for x in r2 ]\n",
        "\n",
        "rects1 = ax.bar(r1, dados_por_regiao['ACIDENTE'], width, label = 'ACIDENTE')\n",
        "rects2 = ax.bar(r2, dados_por_regiao['INCIDENTE'], width, label = 'INCIDENTE')\n",
        "rects3 = ax.bar(r3, dados_por_regiao['INCIDENTE GRAVE'], width, label = 'INCIDENTE GRAVE')\n",
        "\n",
        "ax.set_ylabel('Ocorrências')\n",
        "ax.set_title('REGIÕES\\nACIDENTE vs INCIDENTE (2010-2019)')\n",
        "ax.set_xticks(r2)\n",
        "ax.set_xticklabels(dados_por_regiao['Região'])\n",
        "ax.legend()\n",
        "\n",
        "emcima(rects1, ax)\n",
        "emcima(rects2, ax)\n",
        "emcima(rects3, ax)\n",
        "\n",
        "plt.show()"
      ],
      "metadata": {
        "id": "RVZ9dkxYFynP",
        "outputId": "dbbbf755-8169-400d-f80a-bb6c8533698c",
        "colab": {
          "base_uri": "https://localhost:8080/",
          "height": 407
        }
      },
      "execution_count": null,
      "outputs": [
        {
          "output_type": "display_data",
          "data": {
            "text/plain": [
              "<Figure size 1008x432 with 1 Axes>"
            ],
            "image/png": "[encoded data removed]"
          },
          "metadata": {}
        }
      ]
    },
    {
      "cell_type": "markdown",
      "source": [
        "Após análise dos dados obtidos pelo gráfico, é possível notar que a região que possui maior incidência de todos os três tipos de tipos de acidentes é a região **Sudeste**.\n",
        "\n",
        "Ainda analisando a regiçai **Sudeste**, podemos ver que dos três tipos de acidentes, o incidente o obtêm a porcentagem de aproximadamente 64%. \n",
        "\n",
        "A região que possui menos ocorrências é a **Nordeste**, com, ao todo, 560 ocorrências, sendo a maior incidência delas em **Incidentes** (~55%)."
      ],
      "metadata": {
        "id": "LXabvk_exATK"
      }
    },
    {
      "cell_type": "markdown",
      "source": [
        "# Percentual por Tipos de Acidentes"
      ],
      "metadata": {
        "id": "0X5j7JmHzOXT"
      }
    },
    {
      "cell_type": "code",
      "source": [
        "cores_tipo = ['#87CEFA','#FF69B4', '#FFD700']\n",
        "cores_ano = ['#87CEFA','#FF69B4', '#FFD700', \"#9b59b6\", \"#e74c3c\", '#8B0000', '#C0C0C0']\n",
        "cor1 = ['#87CEFA']"
      ],
      "metadata": {
        "id": "Vsn-T-xObu-H"
      },
      "execution_count": 13,
      "outputs": []
    },
    {
      "cell_type": "code",
      "source": [
        "tipo = dados['tipo'].value_counts()\n",
        "tipo['ACIDENTE'] + tipo['INCIDENTE'] + tipo['INCIDENTE GRAVE']\n",
        "acidente = tipo['ACIDENTE']\n",
        "incidente = tipo['INCIDENTE']\n",
        "incidente_grave = tipo['INCIDENTE GRAVE']"
      ],
      "metadata": {
        "id": "gh-D89QGZhfa"
      },
      "execution_count": null,
      "outputs": []
    },
    {
      "cell_type": "code",
      "source": [
        "porc_acidente = tipo['ACIDENTE']/(tipo['ACIDENTE'] + tipo['INCIDENTE'] + tipo['INCIDENTE GRAVE'])*100\n",
        "porc_incidente = tipo['INCIDENTE']/(tipo['ACIDENTE'] + tipo['INCIDENTE'] + tipo['INCIDENTE GRAVE'])*100\n",
        "porc_incidente_grave = tipo['INCIDENTE GRAVE']/(tipo['ACIDENTE'] + tipo['INCIDENTE'] + tipo['INCIDENTE GRAVE'])*100\n",
        "print('Acidente: {} ({:.2f}%)'.format(acidente,porc_acidente))\n",
        "print('Incidente: {} ({:.2f}%)'.format(incidente,porc_incidente))\n",
        "print('Incidente Grave: {} ({:.2f}%)'.format(incidente_grave,porc_incidente_grave))"
      ],
      "metadata": {
        "colab": {
          "base_uri": "https://localhost:8080/"
        },
        "id": "PIn8V8iVa0-z",
        "outputId": "1372d89e-858c-45aa-9421-10abf0a2637d"
      },
      "execution_count": null,
      "outputs": [
        {
          "output_type": "stream",
          "name": "stdout",
          "text": [
            "Acidente: 1694 (32.32%)\n",
            "Incidente: 2887 (55.07%)\n",
            "Incidente Grave: 661 (12.61%)\n"
          ]
        }
      ]
    },
    {
      "cell_type": "code",
      "source": [
        "fig = plt.figure(figsize=(7,7))\n",
        "sns.set_style('ticks')\n",
        "tipo = dados['tipo'].value_counts()\n",
        "tipo_num = [tipo[0],tipo[1], tipo[2]]\n",
        "plt.pie(tipo_num, labels=['INCIDENTE','ACIDENTE', 'INCIDENTE GRAVE'],colors=cores_tipo)\n",
        "plt.title('Tipos de Acidentes',fontsize=21);"
      ],
      "metadata": {
        "colab": {
          "base_uri": "https://localhost:8080/",
          "height": 433
        },
        "id": "rvMMB88Lbm7o",
        "outputId": "ef3ae1da-c8b0-435e-ac71-f91254cd97c0"
      },
      "execution_count": 7,
      "outputs": [
        {
          "output_type": "display_data",
          "data": {
            "text/plain": [
              "<Figure size 504x504 with 1 Axes>"
            ],
            "image/png": "[encoded data removed]"
          },
          "metadata": {}
        }
      ]
    },
    {
      "cell_type": "markdown",
      "source": [
        "Ao observar o gráfico podemos notar que **Incidentes** possuem um percentual mais alto, com aproximadamente 56%. \n",
        "\n",
        "O mais baixo em quesito percentuals são os **Incidentes Graves** com 12%. \n",
        "\n",
        "E entre eles, ficam os **Acidentes** com 32%.\n"
      ],
      "metadata": {
        "id": "5cr2veFozXUS"
      }
    },
    {
      "cell_type": "markdown",
      "source": [
        "# Por Ano de Ocorrência"
      ],
      "metadata": {
        "id": "DPKtKcA50Ip2"
      }
    },
    {
      "cell_type": "code",
      "source": [
        "sns.set_style('whitegrid')\n",
        "fig = plt.figure(figsize=(13,7))\n",
        "sns.countplot('ano',order = dados['ano'].value_counts().index,palette=cores_ano,data=dados)\n",
        "plt.xlabel(' ')\n",
        "plt.ylabel(' ')\n",
        "plt.title('Ano de Ocorrência',fontsize=21)\n",
        "plt.xticks(fontsize=11)\n",
        "plt.yticks(fontsize=13)\n",
        "plt.ylabel('Quantidade de Acidentes',fontsize=13)\n",
        "fig.savefig('ano_ocorrencia.png');"
      ],
      "metadata": {
        "colab": {
          "base_uri": "https://localhost:8080/",
          "height": 519
        },
        "id": "Y7puazzFcwHU",
        "outputId": "617ea074-4ab5-4e3a-e439-316a1b654bdc"
      },
      "execution_count": 9,
      "outputs": [
        {
          "output_type": "stream",
          "name": "stderr",
          "text": [
            "/usr/local/lib/python3.7/dist-packages/seaborn/_decorators.py:43: FutureWarning: Pass the following variable as a keyword arg: x. From version 0.12, the only valid positional argument will be `data`, and passing other arguments without an explicit keyword will result in an error or misinterpretation.\n",
            "  FutureWarning\n"
          ]
        },
        {
          "output_type": "display_data",
          "data": {
            "text/plain": [
              "<Figure size 936x504 with 1 Axes>"
            ],
            "image/png": "[encoded data removed]"
          },
          "metadata": {}
        }
      ]
    },
    {
      "cell_type": "markdown",
      "source": [
        "Analisando o gráfico acima, podemos obter a informação de quem o ano que mais ocorreram acidentes foi o de **2013**. \n",
        "\n",
        "Havendo uma crescente se formos analisar o ano que **2010** que obteve um número abaixo de 500, após 2010, nos anos **2011**, **2012** e **2013** obtivemos um número maior de acidentes. \n",
        "\n",
        "Após esses anos, em **2014 até 2016** obtivemos uma diminuição de ocorrências. Porém após **2016**, o número cresceu.\n",
        "\n"
      ],
      "metadata": {
        "id": "aI9zNRhl0Uux"
      }
    },
    {
      "cell_type": "markdown",
      "source": [
        "#Ocorrência por Estado"
      ],
      "metadata": {
        "id": "DdgV2QvV1zhC"
      }
    },
    {
      "cell_type": "code",
      "source": [
        "#Porcentagem\n",
        "dados['estado'].value_counts()/dados['estado'].value_counts().sum()*100"
      ],
      "metadata": {
        "id": "hbLshAkg12yj",
        "outputId": "575309f0-4cc2-4af4-ebfa-5912c9613ccf",
        "colab": {
          "base_uri": "https://localhost:8080/"
        }
      },
      "execution_count": 12,
      "outputs": [
        {
          "output_type": "execute_result",
          "data": {
            "text/plain": [
              "SP    23.636017\n",
              "MG     9.194964\n",
              "RJ     9.156810\n",
              "PR     8.412820\n",
              "RS     6.371614\n",
              "GO     5.455933\n",
              "PA     5.017169\n",
              "MT     4.864556\n",
              "AM     4.139641\n",
              "BA     3.815338\n",
              "SC     3.166730\n",
              "MS     2.518123\n",
              "DF     2.460893\n",
              "PE     1.716902\n",
              "CE     1.487982\n",
              "ES     1.335368\n",
              "MA     1.297215\n",
              "AC     1.030141\n",
              "RR     0.934758\n",
              "TO     0.877528\n",
              "PI     0.686761\n",
              "AL     0.572301\n",
              "RO     0.572301\n",
              "PB     0.438764\n",
              "SE     0.400610\n",
              "RN     0.267074\n",
              "AP     0.171690\n",
              "Name: estado, dtype: float64"
            ]
          },
          "metadata": {},
          "execution_count": 12
        }
      ]
    },
    {
      "cell_type": "code",
      "source": [
        "fig1 = plt.figure(figsize=(13,7))\n",
        "y = dados['estado'].count()\n",
        "sns.countplot('estado', palette=cor1, data=dados)\n",
        "plt.xlim(-0.5,25.5)\n",
        "plt.title('Ocorrências por Estado', fontsize=20)\n",
        "plt.xlabel(' ')\n",
        "plt.ylabel('Ocorrências', fontsize=12)"
      ],
      "metadata": {
        "id": "rofhFlWd2JGO",
        "outputId": "0a678424-041e-434d-dccd-14267513872b",
        "colab": {
          "base_uri": "https://localhost:8080/",
          "height": 536
        }
      },
      "execution_count": 26,
      "outputs": [
        {
          "output_type": "stream",
          "name": "stderr",
          "text": [
            "/usr/local/lib/python3.7/dist-packages/seaborn/_decorators.py:43: FutureWarning: Pass the following variable as a keyword arg: x. From version 0.12, the only valid positional argument will be `data`, and passing other arguments without an explicit keyword will result in an error or misinterpretation.\n",
            "  FutureWarning\n"
          ]
        },
        {
          "output_type": "execute_result",
          "data": {
            "text/plain": [
              "Text(0, 0.5, 'Ocorrências')"
            ]
          },
          "metadata": {},
          "execution_count": 26
        },
        {
          "output_type": "display_data",
          "data": {
            "text/plain": [
              "<Figure size 936x504 with 1 Axes>"
            ],
            "image/png": "[encoded data removed]"
          },
          "metadata": {}
        }
      ]
    },
    {
      "cell_type": "markdown",
      "source": [
        "Analisando o gráfico acima, podemos obter as seguintes informações:\n",
        "\n",
        "\n",
        "\n",
        "*   O estado com maiores ocorrências é o estado de **São Paulo**, com ~24%, com uma distância grande do segundo lugar, o estado de **Minas Gerais** (9%). \n",
        "*   O estado com menores ocorrências é o estado do **Amapá**, com menos de 1% de ocorrências. \n",
        "*   Acompanhando o estado do Amapá, os estados de **Roraima**, **Tocantins**, **Piauí**, **Alagoas**, **Rondônia**, **Paraíba**, **Sergipe**, **Rio Grande do Norte** também estão abaixo de 1%. \n",
        "\n",
        "\n"
      ],
      "metadata": {
        "id": "A4p_QD2y31xB"
      }
    }
  ]
}